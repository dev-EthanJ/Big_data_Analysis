{
 "cells": [
  {
   "cell_type": "markdown",
   "metadata": {},
   "source": [
    "# 01 파이썬 리뷰"
   ]
  },
  {
   "cell_type": "markdown",
   "metadata": {},
   "source": [
    "## 파일 읽기 "
   ]
  },
  {
   "cell_type": "code",
   "execution_count": 2,
   "metadata": {},
   "outputs": [
    {
     "name": "stdout",
     "output_type": "stream",
     "text": [
      "line# :  17\n"
     ]
    }
   ],
   "source": [
    "# -*- coding: utf-8 -*-\n",
    "\n",
    "fd = open(\"studentlist.txt\")\n",
    "\n",
    "fd.readline() # 헤딩 \n",
    "\n",
    "lines = fd.readlines()\n",
    "\n",
    "print (\"line# : \", len(lines))"
   ]
  },
  {
   "cell_type": "code",
   "execution_count": 4,
   "metadata": {},
   "outputs": [
    {
     "data": {
      "text/plain": [
       "['김길동,남자,23,3,유,O,165.3,68.2,02\\n',\n",
       " '이미린,여자,22,2,무,AB,170.1,53,03\\n',\n",
       " '홍길동,남자,24,4,무,B,175,80.1,01\\n',\n",
       " '김철수,남자,23,3,무,AB,182.1,85.7,02\\n',\n",
       " '손세수,여자,20,1,유,A,168,49.5,01\\n',\n",
       " '박미희,여자,21,2,무,O,162,52,03\\n',\n",
       " '강수친,여자,22,1,무,O,155.2,45.3,02\\n',\n",
       " '이희수,여자,23,1,무,A,176.9,55,01\\n',\n",
       " '이철린,남자,23,3,무,B,178.5,64.2,01\\n',\n",
       " '방희철,남자,22,2,무,B,176.1,61.3,03\\n',\n",
       " '박수호,남자,24,4,유,O,167.1,62,03\\n',\n",
       " '임동민,남자,22,2,무,AB,180,75.8,03\\n',\n",
       " '김민수,남자,21,1,무,A,162.2,55.3,01\\n',\n",
       " '이희진,여자,23,3,무,O,176.1,53.1,02\\n',\n",
       " '김미진,여자,22,2,무,B,158.2,45.2,03\\n',\n",
       " '김동수,남자,24,4,유,B,168.6,70.2,01\\n',\n",
       " '여수근,남자,21,1,무,A,169.2,62.2,02\\n']"
      ]
     },
     "execution_count": 4,
     "metadata": {},
     "output_type": "execute_result"
    }
   ],
   "source": [
    "lines"
   ]
  },
  {
   "cell_type": "markdown",
   "metadata": {},
   "source": [
    "## 필드 분할, type 가공"
   ]
  },
  {
   "cell_type": "code",
   "execution_count": 5,
   "metadata": {},
   "outputs": [
    {
     "name": "stdout",
     "output_type": "stream",
     "text": [
      "[['이미린', '여자', 22, '2', '무', 'AB', 170.1, 53.0, '03'], ['홍길동', '남자', 24, '4', '무', 'B', 175.0, 80.1, '01']]\n"
     ]
    }
   ],
   "source": [
    "Table = [] # 전체 레코드를 담은 테이블 \n",
    "\n",
    "for line in lines :  # 한 줄 씩  line 변수에 담아서\n",
    "    \n",
    "    fields = line.split(\",\") # , 를 기준으로 나눈다. -> fields라는 list가 만들어진다.\n",
    "    # name,sex,age,grade,absence,bloodtype,height,weight,dept\n",
    "    #  0    1   2    3    4        5         6     7      8\n",
    "\n",
    "    fields[2] = int(fields[2])  # 나이를 숫자로 바꿔 넣기\n",
    "\n",
    "    fields[6] = float(fields[6])  # 키를 숫자로 바꿔 넣기\n",
    "    fields[7] = float(fields[7]) # 몸무게도 \n",
    "    fields[8] = fields[8].strip()\n",
    "          \n",
    "    Table.append(fields)  #레코드를 테이블에 추가 \n",
    "\n",
    "print(Table[1:3])"
   ]
  },
  {
   "cell_type": "markdown",
   "metadata": {},
   "source": [
    "## 정렬"
   ]
  },
  {
   "cell_type": "code",
   "execution_count": 6,
   "metadata": {},
   "outputs": [
    {
     "name": "stdout",
     "output_type": "stream",
     "text": [
      "손세수 여자 20\n",
      "박미희 여자 21\n",
      "김민수 남자 21\n",
      "여수근 남자 21\n",
      "이미린 여자 22\n",
      "강수친 여자 22\n",
      "방희철 남자 22\n",
      "임동민 남자 22\n",
      "김미진 여자 22\n",
      "김길동 남자 23\n",
      "김철수 남자 23\n",
      "이희수 여자 23\n",
      "이철린 남자 23\n",
      "이희진 여자 23\n",
      "홍길동 남자 24\n",
      "박수호 남자 24\n",
      "김동수 남자 24\n"
     ]
    }
   ],
   "source": [
    "Table = sorted(Table, key=lambda con:con[2]) # 나이로 정렬\n",
    "for record in Table :\n",
    "    print(record[0], record[1], record[2])"
   ]
  },
  {
   "cell_type": "markdown",
   "metadata": {},
   "source": [
    "## 기술 통계 : 평균 구하기, 키 평균"
   ]
  },
  {
   "cell_type": "code",
   "execution_count": 7,
   "metadata": {},
   "outputs": [
    {
     "name": "stdout",
     "output_type": "stream",
     "text": [
      "170.03529411764706\n"
     ]
    }
   ],
   "source": [
    "heightSum = 0\n",
    "for record in Table :\n",
    "    height = record[6]\n",
    "    heightSum += height\n",
    "\n",
    "print(heightSum / len(Table))"
   ]
  },
  {
   "cell_type": "markdown",
   "metadata": {},
   "source": [
    "## 기술통계 :  도수 구하기 \n",
    "\n",
    "### 학과 별 학생 수 "
   ]
  },
  {
   "cell_type": "code",
   "execution_count": 8,
   "metadata": {},
   "outputs": [
    {
     "name": "stdout",
     "output_type": "stream",
     "text": [
      "{'01': 6, '03': 6, '02': 5}\n"
     ]
    }
   ],
   "source": [
    "dept_dic= dict()# {학과 코드: 도수}\n",
    "\n",
    "for record in Table :\n",
    "    dept_code = record[8]\n",
    "    \n",
    "    if dept_code in dept_dic:\n",
    "        dept_dic[dept_code] += 1\n",
    "    \n",
    "    else :\n",
    "        dept_dic[dept_code] = 1\n",
    "\n",
    "print(dept_dic)"
   ]
  },
  {
   "cell_type": "markdown",
   "metadata": {},
   "source": [
    "## join \n",
    "### 학과 코드 파일 읽어서 도수 결과에 표기"
   ]
  },
  {
   "cell_type": "code",
   "execution_count": 9,
   "metadata": {},
   "outputs": [
    {
     "name": "stdout",
     "output_type": "stream",
     "text": [
      "{'01': '소프트웨어'}\n",
      "{'01': '소프트웨어', '02': 'AI융합'}\n",
      "{'01': '소프트웨어', '02': 'AI융합', '03': '통계보험'}\n",
      "소프트웨어 6\n",
      "통계보험 6\n",
      "AI융합 5\n"
     ]
    }
   ],
   "source": [
    "deptcode = dict()  # {학과 코드 : 실제 명칭}\n",
    "\n",
    "fd = open(\"deptcode.txt\") \n",
    "for line in fd:\n",
    "    code, name = line.split(\",\")\n",
    "    deptcode[code] = name.strip()\n",
    "    print(deptcode)\n",
    "\n",
    "for key, value in dept_dic.items():\n",
    "    print (deptcode[key], value)"
   ]
  },
  {
   "cell_type": "markdown",
   "metadata": {},
   "source": [
    "## group by :  혈액형 별 키 평균\n",
    "\n",
    "### 혈액형 별 키 합계, 도수 집계  "
   ]
  },
  {
   "cell_type": "code",
   "execution_count": 9,
   "metadata": {},
   "outputs": [
    {
     "name": "stdout",
     "output_type": "stream",
     "text": [
      "{'A': [676.3, 4], 'O': [825.7, 5], 'AB': [532.2, 3], 'B': [856.4, 5]}\n"
     ]
    }
   ],
   "source": [
    "b_table = dict()  # 집계 테이블 : { 혈액형 : [합계, 도수] }\n",
    "\n",
    "for record in Table :\n",
    "    bloodtype = record[5]\n",
    "    if bloodtype in b_table:  # 진료과목이 있는지\n",
    "        b_table[bloodtype] = [b_table[bloodtype][0] + record[6], b_table[bloodtype][1] + 1]  # 키 합계, 갯수 \n",
    "    else:\n",
    "        b_table[bloodtype] = [record[6], 1]  # 키 , 갯수 \n",
    "\n",
    "print(b_table)"
   ]
  },
  {
   "cell_type": "code",
   "execution_count": 10,
   "metadata": {},
   "outputs": [
    {
     "name": "stdout",
     "output_type": "stream",
     "text": [
      "A 169.075\n",
      "O 165.14000000000001\n",
      "AB 177.4\n",
      "B 171.28\n"
     ]
    }
   ],
   "source": [
    "for key, value in b_table.items():\n",
    "    print(key , value[0]/value[1] )"
   ]
  },
  {
   "cell_type": "markdown",
   "metadata": {},
   "source": [
    "## *과제 1 : 성별, 혈액형 별 몸무게의 평균\n",
    "\n",
    "결과예시)\n",
    "\n",
    "남자, A, 얼마\n",
    "\n",
    "남자, B, 얼마\n",
    "\n",
    "### 제출방법 \n",
    "\n",
    "test1.ipynb 파일 제출 (위 내용 포함)  "
   ]
  },
  {
   "cell_type": "code",
   "execution_count": 13,
   "metadata": {},
   "outputs": [
    {
     "data": {
      "text/plain": [
       "{'A', 'AB', 'B', 'O'}"
      ]
     },
     "execution_count": 13,
     "metadata": {},
     "output_type": "execute_result"
    }
   ],
   "source": [
    "b_type = set()\n",
    "\n",
    "for record in Table:\n",
    "    b_type.add(record[5])\n",
    "    \n",
    "b_type"
   ]
  },
  {
   "cell_type": "code",
   "execution_count": 140,
   "metadata": {},
   "outputs": [
    {
     "name": "stdout",
     "output_type": "stream",
     "text": [
      "{'A': 117.5, 'B': 275.8, 'AB': 161.5, 'O': 130.2} {'A': 104.5, 'O': 150.4, 'AB': 53.0, 'B': 45.2}\n",
      "{'A': 2, 'B': 4, 'AB': 2, 'O': 2} {'A': 2, 'O': 3, 'AB': 1, 'B': 1}\n"
     ]
    }
   ],
   "source": [
    "male_weight = dict()\n",
    "female_weight = dict()\n",
    "\n",
    "n_male = dict()\n",
    "n_female = dict()\n",
    "\n",
    "for record in Table:\n",
    "    sex = record[1]\n",
    "    b_type = record[5]\n",
    "    weight = record[7]\n",
    "    \n",
    "    if sex == \"남자\":\n",
    "        if b_type not in n_male:\n",
    "            n_male[b_type] = 1\n",
    "        else:\n",
    "            n_male[b_type] += 1    \n",
    "        \n",
    "        if b_type not in male_weight:\n",
    "            male_weight[b_type] = weight\n",
    "        else:\n",
    "            male_weight[b_type] += weight\n",
    "    \n",
    "    if sex == \"여자\":\n",
    "        if b_type not in n_female:\n",
    "            n_female[b_type] = 1\n",
    "        else:\n",
    "            n_female[b_type] += 1\n",
    "        \n",
    "        if b_type not in female_weight:\n",
    "            female_weight[b_type] = weight\n",
    "        else:\n",
    "            female_weight[b_type] += weight\n",
    "\n",
    "print(male_weight, female_weight)\n",
    "print(n_male, n_female)"
   ]
  },
  {
   "cell_type": "code",
   "execution_count": 141,
   "metadata": {},
   "outputs": [],
   "source": [
    "import numpy as np\n",
    "import pandas as pd"
   ]
  },
  {
   "cell_type": "code",
   "execution_count": 142,
   "metadata": {},
   "outputs": [],
   "source": [
    "m_weight = pd.Series(male_weight)\n",
    "f_weight = pd.Series(female_weight)"
   ]
  },
  {
   "cell_type": "code",
   "execution_count": 143,
   "metadata": {},
   "outputs": [],
   "source": [
    "n_m = pd.Series(n_male)\n",
    "n_f = pd.Series(n_female)"
   ]
  },
  {
   "cell_type": "code",
   "execution_count": 144,
   "metadata": {},
   "outputs": [
    {
     "name": "stdout",
     "output_type": "stream",
     "text": [
      "A     117.5\n",
      "B     275.8\n",
      "AB    161.5\n",
      "O     130.2\n",
      "dtype: float64 A     104.5\n",
      "O     150.4\n",
      "AB     53.0\n",
      "B      45.2\n",
      "dtype: float64\n",
      "A     2\n",
      "B     4\n",
      "AB    2\n",
      "O     2\n",
      "dtype: int64 A     2\n",
      "O     3\n",
      "AB    1\n",
      "B     1\n",
      "dtype: int64\n"
     ]
    }
   ],
   "source": [
    "print(m_weight, f_weight)\n",
    "print(n_m, n_f)"
   ]
  },
  {
   "cell_type": "code",
   "execution_count": 151,
   "metadata": {},
   "outputs": [
    {
     "name": "stdout",
     "output_type": "stream",
     "text": [
      "A     58.75\n",
      "B     68.95\n",
      "AB    80.75\n",
      "O     65.10\n",
      "dtype: float64 A     52.250000\n",
      "O     50.133333\n",
      "AB    53.000000\n",
      "B     45.200000\n",
      "dtype: float64\n"
     ]
    }
   ],
   "source": [
    "male = m_weight / n_m\n",
    "female = f_weight / n_f\n",
    "\n",
    "print(male, female)"
   ]
  },
  {
   "cell_type": "code",
   "execution_count": 153,
   "metadata": {},
   "outputs": [
    {
     "name": "stdout",
     "output_type": "stream",
     "text": [
      "남자 A형 의 평균 몸무게는 58.75kg 입니다.\n",
      "\n",
      "남자 B형 의 평균 몸무게는 68.95kg 입니다.\n",
      "\n",
      "남자 AB형 의 평균 몸무게는 80.75kg 입니다.\n",
      "\n",
      "남자 O형 의 평균 몸무게는 65.1kg 입니다.\n",
      "\n"
     ]
    }
   ],
   "source": [
    "for index, value in male.items():\n",
    "    print(\"남자 \" + index + \"형 의 평균 몸무게는 \" + str(value) + \"kg 입니다.\\n\")"
   ]
  },
  {
   "cell_type": "code",
   "execution_count": 154,
   "metadata": {},
   "outputs": [
    {
     "name": "stdout",
     "output_type": "stream",
     "text": [
      "여자 A형 의 평균 몸무게는 52.25kg 입니다.\n",
      "\n",
      "여자 O형 의 평균 몸무게는 50.13333333333333kg 입니다.\n",
      "\n",
      "여자 AB형 의 평균 몸무게는 53.0kg 입니다.\n",
      "\n",
      "여자 B형 의 평균 몸무게는 45.2kg 입니다.\n",
      "\n"
     ]
    }
   ],
   "source": [
    "for index, value in female.items():\n",
    "    print(\"여자 \" + index + \"형 의 평균 몸무게는 \" + str(value) + \"kg 입니다.\\n\")"
   ]
  },
  {
   "cell_type": "code",
   "execution_count": null,
   "metadata": {},
   "outputs": [],
   "source": []
  }
 ],
 "metadata": {
  "kernelspec": {
   "display_name": "Python 3 (ipykernel)",
   "language": "python",
   "name": "python3"
  },
  "language_info": {
   "codemirror_mode": {
    "name": "ipython",
    "version": 3
   },
   "file_extension": ".py",
   "mimetype": "text/x-python",
   "name": "python",
   "nbconvert_exporter": "python",
   "pygments_lexer": "ipython3",
   "version": "3.9.13"
  }
 },
 "nbformat": 4,
 "nbformat_minor": 4
}
